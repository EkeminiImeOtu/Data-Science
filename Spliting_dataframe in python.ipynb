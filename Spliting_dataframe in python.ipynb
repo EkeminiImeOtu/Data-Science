{
 "cells": [
  {
   "cell_type": "code",
   "execution_count": 1,
   "id": "a77480eb",
   "metadata": {},
   "outputs": [],
   "source": [
    "import numpy as np"
   ]
  },
  {
   "cell_type": "code",
   "execution_count": 2,
   "id": "87871332",
   "metadata": {},
   "outputs": [],
   "source": [
    "import pandas as pd"
   ]
  },
  {
   "cell_type": "code",
   "execution_count": 3,
   "id": "4163a080",
   "metadata": {},
   "outputs": [],
   "source": [
    "df= pd.read_csv(\"yelp.csv\")"
   ]
  },
  {
   "cell_type": "code",
   "execution_count": 4,
   "id": "af11497d",
   "metadata": {},
   "outputs": [
    {
     "data": {
      "text/plain": [
       "True"
      ]
     },
     "execution_count": 4,
     "metadata": {},
     "output_type": "execute_result"
    }
   ],
   "source": [
    "df.duplicated().any()"
   ]
  },
  {
   "cell_type": "code",
   "execution_count": 5,
   "id": "cf98e0d4",
   "metadata": {},
   "outputs": [
    {
     "data": {
      "text/plain": [
       "(1206152, 2)"
      ]
     },
     "execution_count": 5,
     "metadata": {},
     "output_type": "execute_result"
    }
   ],
   "source": [
    "df.shape"
   ]
  },
  {
   "cell_type": "code",
   "execution_count": 10,
   "id": "e08dca5d",
   "metadata": {},
   "outputs": [],
   "source": [
    "df.drop_duplicates(inplace=True)"
   ]
  },
  {
   "cell_type": "code",
   "execution_count": 7,
   "id": "b26e6be6",
   "metadata": {},
   "outputs": [],
   "source": [
    "#df.head()"
   ]
  },
  {
   "cell_type": "code",
   "execution_count": 11,
   "id": "b8f3d3e4",
   "metadata": {},
   "outputs": [
    {
     "data": {
      "text/plain": [
       "(1169200, 2)"
      ]
     },
     "execution_count": 11,
     "metadata": {},
     "output_type": "execute_result"
    }
   ],
   "source": [
    "df.shape"
   ]
  },
  {
   "cell_type": "code",
   "execution_count": 9,
   "id": "2fb1fe94",
   "metadata": {},
   "outputs": [],
   "source": [
    "#df.to_csv('yelpDropped.csv', index=False)"
   ]
  },
  {
   "cell_type": "code",
   "execution_count": 19,
   "id": "4da22c07",
   "metadata": {},
   "outputs": [
    {
     "name": "stdout",
     "output_type": "stream",
     "text": [
      "Shape of new dataframes - (584600, 2) , (584600, 2)\n"
     ]
    }
   ],
   "source": [
    "# splitting dataframe by row index\n",
    "df_1 = df.iloc[:584600,:]\n",
    "df_2 = df.iloc[584600:,:]\n",
    "print(\"Shape of new dataframes - {} , {}\".format(df_1.shape, df_2.shape))\n"
   ]
  },
  {
   "cell_type": "code",
   "execution_count": 20,
   "id": "984d3d79",
   "metadata": {},
   "outputs": [
    {
     "data": {
      "text/html": [
       "<div>\n",
       "<style scoped>\n",
       "    .dataframe tbody tr th:only-of-type {\n",
       "        vertical-align: middle;\n",
       "    }\n",
       "\n",
       "    .dataframe tbody tr th {\n",
       "        vertical-align: top;\n",
       "    }\n",
       "\n",
       "    .dataframe thead th {\n",
       "        text-align: right;\n",
       "    }\n",
       "</style>\n",
       "<table border=\"1\" class=\"dataframe\">\n",
       "  <thead>\n",
       "    <tr style=\"text-align: right;\">\n",
       "      <th></th>\n",
       "      <th>Page_URL</th>\n",
       "      <th>URL</th>\n",
       "    </tr>\n",
       "  </thead>\n",
       "  <tbody>\n",
       "    <tr>\n",
       "      <th>0</th>\n",
       "      <td>https://www.yelp.com/search?find_desc=Kid+Frie...</td>\n",
       "      <td>https://www.yelp.com/biz/zz-pizza-and-kabob-mo...</td>\n",
       "    </tr>\n",
       "    <tr>\n",
       "      <th>1</th>\n",
       "      <td>https://www.yelp.com/search?find_desc=Kid+Frie...</td>\n",
       "      <td>https://www.yelp.com/biz/zz-pizza-and-kabob-mo...</td>\n",
       "    </tr>\n",
       "    <tr>\n",
       "      <th>2</th>\n",
       "      <td>https://www.yelp.com/search?find_desc=Kid+Frie...</td>\n",
       "      <td>https://www.yelp.com/biz/zzaam-fresh-korean-gr...</td>\n",
       "    </tr>\n",
       "    <tr>\n",
       "      <th>3</th>\n",
       "      <td>https://www.yelp.com/search?find_desc=Kid+Frie...</td>\n",
       "      <td>https://www.yelp.com/biz/zydecos-mooresville</td>\n",
       "    </tr>\n",
       "    <tr>\n",
       "      <th>4</th>\n",
       "      <td>https://www.yelp.com/search?find_desc=Kid+Frie...</td>\n",
       "      <td>https://www.yelp.com/biz/zydecos-belle-chasse</td>\n",
       "    </tr>\n",
       "    <tr>\n",
       "      <th>5</th>\n",
       "      <td>https://www.yelp.com/search?find_desc=Kid+Frie...</td>\n",
       "      <td>https://www.yelp.com/biz/zwiegs-grill-watertown</td>\n",
       "    </tr>\n",
       "    <tr>\n",
       "      <th>6</th>\n",
       "      <td>https://www.yelp.com/search?find_desc=Kid+Frie...</td>\n",
       "      <td>https://www.yelp.com/biz/zwelis-durham</td>\n",
       "    </tr>\n",
       "    <tr>\n",
       "      <th>7</th>\n",
       "      <td>https://www.yelp.com/search?find_desc=Kid+Frie...</td>\n",
       "      <td>https://www.yelp.com/biz/zwelis-durham</td>\n",
       "    </tr>\n",
       "    <tr>\n",
       "      <th>8</th>\n",
       "      <td>https://www.yelp.com/search?find_desc=Kid+Frie...</td>\n",
       "      <td>https://www.yelp.com/biz/zwanzigz-pizza-and-br...</td>\n",
       "    </tr>\n",
       "    <tr>\n",
       "      <th>9</th>\n",
       "      <td>https://www.yelp.com/search?find_desc=Kid+Frie...</td>\n",
       "      <td>https://www.yelp.com/biz/zushi-wasilla-2</td>\n",
       "    </tr>\n",
       "  </tbody>\n",
       "</table>\n",
       "</div>"
      ],
      "text/plain": [
       "                                            Page_URL  \\\n",
       "0  https://www.yelp.com/search?find_desc=Kid+Frie...   \n",
       "1  https://www.yelp.com/search?find_desc=Kid+Frie...   \n",
       "2  https://www.yelp.com/search?find_desc=Kid+Frie...   \n",
       "3  https://www.yelp.com/search?find_desc=Kid+Frie...   \n",
       "4  https://www.yelp.com/search?find_desc=Kid+Frie...   \n",
       "5  https://www.yelp.com/search?find_desc=Kid+Frie...   \n",
       "6  https://www.yelp.com/search?find_desc=Kid+Frie...   \n",
       "7  https://www.yelp.com/search?find_desc=Kid+Frie...   \n",
       "8  https://www.yelp.com/search?find_desc=Kid+Frie...   \n",
       "9  https://www.yelp.com/search?find_desc=Kid+Frie...   \n",
       "\n",
       "                                                 URL  \n",
       "0  https://www.yelp.com/biz/zz-pizza-and-kabob-mo...  \n",
       "1  https://www.yelp.com/biz/zz-pizza-and-kabob-mo...  \n",
       "2  https://www.yelp.com/biz/zzaam-fresh-korean-gr...  \n",
       "3       https://www.yelp.com/biz/zydecos-mooresville  \n",
       "4      https://www.yelp.com/biz/zydecos-belle-chasse  \n",
       "5    https://www.yelp.com/biz/zwiegs-grill-watertown  \n",
       "6             https://www.yelp.com/biz/zwelis-durham  \n",
       "7             https://www.yelp.com/biz/zwelis-durham  \n",
       "8  https://www.yelp.com/biz/zwanzigz-pizza-and-br...  \n",
       "9           https://www.yelp.com/biz/zushi-wasilla-2  "
      ]
     },
     "execution_count": 20,
     "metadata": {},
     "output_type": "execute_result"
    }
   ],
   "source": [
    "df_1.head(10)"
   ]
  },
  {
   "cell_type": "code",
   "execution_count": 21,
   "id": "3834b242",
   "metadata": {},
   "outputs": [],
   "source": [
    "df_1.to_csv(\"yelp_onemain.csv\")"
   ]
  },
  {
   "cell_type": "code",
   "execution_count": 22,
   "id": "107920ae",
   "metadata": {},
   "outputs": [],
   "source": [
    "df_2.to_csv(\"yelp_twomain.csv\")"
   ]
  },
  {
   "cell_type": "code",
   "execution_count": 23,
   "id": "3881060d",
   "metadata": {},
   "outputs": [
    {
     "data": {
      "text/html": [
       "<div>\n",
       "<style scoped>\n",
       "    .dataframe tbody tr th:only-of-type {\n",
       "        vertical-align: middle;\n",
       "    }\n",
       "\n",
       "    .dataframe tbody tr th {\n",
       "        vertical-align: top;\n",
       "    }\n",
       "\n",
       "    .dataframe thead th {\n",
       "        text-align: right;\n",
       "    }\n",
       "</style>\n",
       "<table border=\"1\" class=\"dataframe\">\n",
       "  <thead>\n",
       "    <tr style=\"text-align: right;\">\n",
       "      <th></th>\n",
       "      <th>Page_URL</th>\n",
       "      <th>URL</th>\n",
       "    </tr>\n",
       "  </thead>\n",
       "  <tbody>\n",
       "    <tr>\n",
       "      <th>609253</th>\n",
       "      <td>https://www.yelp.com/search?find_desc=Kid+Frie...</td>\n",
       "      <td>https://www.yelp.com/biz/selenas-at-willow-lak...</td>\n",
       "    </tr>\n",
       "    <tr>\n",
       "      <th>609254</th>\n",
       "      <td>https://www.yelp.com/search?find_desc=Kid+Frie...</td>\n",
       "      <td>https://www.yelp.com/biz/aspen-creek-grill-lou...</td>\n",
       "    </tr>\n",
       "    <tr>\n",
       "      <th>609255</th>\n",
       "      <td>https://www.yelp.com/search?find_desc=Kid+Frie...</td>\n",
       "      <td>https://www.yelp.com/biz/geraldines-kitchen-je...</td>\n",
       "    </tr>\n",
       "    <tr>\n",
       "      <th>609256</th>\n",
       "      <td>https://www.yelp.com/search?find_desc=Kid+Frie...</td>\n",
       "      <td>https://www.yelp.com/biz/cabbana-bar-and-grill...</td>\n",
       "    </tr>\n",
       "    <tr>\n",
       "      <th>609257</th>\n",
       "      <td>https://www.yelp.com/search?find_desc=Kid+Frie...</td>\n",
       "      <td>https://www.yelp.com/biz/funmis-cafe-louisvill...</td>\n",
       "    </tr>\n",
       "    <tr>\n",
       "      <th>609258</th>\n",
       "      <td>https://www.yelp.com/search?find_desc=Kid+Frie...</td>\n",
       "      <td>https://www.yelp.com/biz/eat-a-pita-louisville...</td>\n",
       "    </tr>\n",
       "    <tr>\n",
       "      <th>609259</th>\n",
       "      <td>https://www.yelp.com/search?find_desc=Kid+Frie...</td>\n",
       "      <td>https://www.yelp.com/biz/taqueria-crestwood-cr...</td>\n",
       "    </tr>\n",
       "    <tr>\n",
       "      <th>609260</th>\n",
       "      <td>https://www.yelp.com/search?find_desc=Kid+Frie...</td>\n",
       "      <td>https://www.yelp.com/biz/the-yellow-cactus-lou...</td>\n",
       "    </tr>\n",
       "    <tr>\n",
       "      <th>609261</th>\n",
       "      <td>https://www.yelp.com/search?find_desc=Kid+Frie...</td>\n",
       "      <td>https://www.yelp.com/biz/havana-rumba-middleto...</td>\n",
       "    </tr>\n",
       "    <tr>\n",
       "      <th>609262</th>\n",
       "      <td>https://www.yelp.com/search?find_desc=Kid+Frie...</td>\n",
       "      <td>https://www.yelp.com/biz/spinellis-pizzeria-lo...</td>\n",
       "    </tr>\n",
       "  </tbody>\n",
       "</table>\n",
       "</div>"
      ],
      "text/plain": [
       "                                                 Page_URL  \\\n",
       "609253  https://www.yelp.com/search?find_desc=Kid+Frie...   \n",
       "609254  https://www.yelp.com/search?find_desc=Kid+Frie...   \n",
       "609255  https://www.yelp.com/search?find_desc=Kid+Frie...   \n",
       "609256  https://www.yelp.com/search?find_desc=Kid+Frie...   \n",
       "609257  https://www.yelp.com/search?find_desc=Kid+Frie...   \n",
       "609258  https://www.yelp.com/search?find_desc=Kid+Frie...   \n",
       "609259  https://www.yelp.com/search?find_desc=Kid+Frie...   \n",
       "609260  https://www.yelp.com/search?find_desc=Kid+Frie...   \n",
       "609261  https://www.yelp.com/search?find_desc=Kid+Frie...   \n",
       "609262  https://www.yelp.com/search?find_desc=Kid+Frie...   \n",
       "\n",
       "                                                      URL  \n",
       "609253  https://www.yelp.com/biz/selenas-at-willow-lak...  \n",
       "609254  https://www.yelp.com/biz/aspen-creek-grill-lou...  \n",
       "609255  https://www.yelp.com/biz/geraldines-kitchen-je...  \n",
       "609256  https://www.yelp.com/biz/cabbana-bar-and-grill...  \n",
       "609257  https://www.yelp.com/biz/funmis-cafe-louisvill...  \n",
       "609258  https://www.yelp.com/biz/eat-a-pita-louisville...  \n",
       "609259  https://www.yelp.com/biz/taqueria-crestwood-cr...  \n",
       "609260  https://www.yelp.com/biz/the-yellow-cactus-lou...  \n",
       "609261  https://www.yelp.com/biz/havana-rumba-middleto...  \n",
       "609262  https://www.yelp.com/biz/spinellis-pizzeria-lo...  "
      ]
     },
     "execution_count": 23,
     "metadata": {},
     "output_type": "execute_result"
    }
   ],
   "source": [
    "df_2.head(10)"
   ]
  },
  {
   "cell_type": "code",
   "execution_count": null,
   "id": "d1e10777",
   "metadata": {},
   "outputs": [],
   "source": []
  }
 ],
 "metadata": {
  "kernelspec": {
   "display_name": "Python 3 (ipykernel)",
   "language": "python",
   "name": "python3"
  },
  "language_info": {
   "codemirror_mode": {
    "name": "ipython",
    "version": 3
   },
   "file_extension": ".py",
   "mimetype": "text/x-python",
   "name": "python",
   "nbconvert_exporter": "python",
   "pygments_lexer": "ipython3",
   "version": "3.9.7"
  }
 },
 "nbformat": 4,
 "nbformat_minor": 5
}
