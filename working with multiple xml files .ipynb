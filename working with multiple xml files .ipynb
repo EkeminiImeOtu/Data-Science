{
 "cells": [
  {
   "cell_type": "code",
   "execution_count": 13,
   "id": "2f5e1a4d-b9d7-4184-bb2a-f4763a7fb054",
   "metadata": {},
   "outputs": [],
   "source": [
    "import glob\n",
    "# import ProgressBar as pbar\n",
    "import pandas as pd\n",
    "import re\n",
    "from datetime import datetime\n",
    "import xml.etree.ElementTree as ET\n",
    "\n",
    "def extract_from_xml(file_to_process):\n",
    "    dataframe = pd.DataFrame(columns=[\"address\", \"description\", \"title\", \"lat\", \"lng\"])\n",
    "    tree = ET.parse(file_to_process)\n",
    "    root = tree.getroot()\n",
    "    for location in root:\n",
    "        address = location.find(\"address\").text\n",
    "        description = location.find(\"description\").text\n",
    "        title = location.find(\"title\").text\n",
    "        lat = location.find(\"lat\").text\n",
    "        lng= location.find(\"lng\").text\n",
    "        dataframe = dataframe.append({\"address\":address, \"description\":description, \"title\":title,\"lat\":lat,\"lng\":lng}, ignore_index=True)\n",
    "    return dataframe\n",
    "\n",
    "def extract():\n",
    "    extracted_data = pd.DataFrame(columns=['address','description','title', \"lat\", \"lng\"])\n",
    "    for xmlfile in glob.glob(r\"C:\\Users\\USER\\Downloads\\work\\Markers\\*.xml\"):\n",
    "        \n",
    "        try:\n",
    "            extracted_data = extracted_data.append(extract_from_xml(xmlfile), ignore_index=True)\n",
    "            \n",
    "        except ParseError:\n",
    "            print(xmlfile)\n",
    "    extracted_data.replace(to_replace='<a href=\"',value='',regex=True)\n",
    "            \n",
    "            \n",
    "    \n",
    "    return extracted_data.to_excel('markerschecks.xlsx', index=False)\n",
    "extract()"
   ]
  },
  {
   "cell_type": "code",
   "execution_count": null,
   "id": "2663b513-c88b-4264-b9f6-69a1458bb087",
   "metadata": {},
   "outputs": [],
   "source": []
  },
  {
   "cell_type": "code",
   "execution_count": null,
   "id": "e5f52905-b301-43e3-986f-3917c51fdfff",
   "metadata": {},
   "outputs": [],
   "source": []
  }
 ],
 "metadata": {
  "kernelspec": {
   "display_name": "Python 3 (ipykernel)",
   "language": "python",
   "name": "python3"
  },
  "language_info": {
   "codemirror_mode": {
    "name": "ipython",
    "version": 3
   },
   "file_extension": ".py",
   "mimetype": "text/x-python",
   "name": "python",
   "nbconvert_exporter": "python",
   "pygments_lexer": "ipython3",
   "version": "3.9.7"
  }
 },
 "nbformat": 4,
 "nbformat_minor": 5
}
