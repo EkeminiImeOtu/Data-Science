{
  "nbformat": 4,
  "nbformat_minor": 0,
  "metadata": {
    "colab": {
      "provenance": [],
      "include_colab_link": true
    },
    "kernelspec": {
      "name": "python3",
      "display_name": "Python 3"
    },
    "language_info": {
      "name": "python"
    }
  },
  "cells": [
    {
      "cell_type": "markdown",
      "metadata": {
        "id": "view-in-github",
        "colab_type": "text"
      },
      "source": [
        "<a href=\"https://colab.research.google.com/github/EkeminiImeOtu/Data-Science/blob/main/batchci.ipynb\" target=\"_parent\"><img src=\"https://colab.research.google.com/assets/colab-badge.svg\" alt=\"Open In Colab\"/></a>"
      ]
    },
    {
      "cell_type": "code",
      "source": [
        "from google.colab import drive\n",
        "drive.mount('drive')"
      ],
      "metadata": {
        "colab": {
          "base_uri": "https://localhost:8080/"
        },
        "id": "bkp_EOe_unrH",
        "outputId": "811a2cf8-e390-4865-d595-49939e5c87f7"
      },
      "execution_count": 4,
      "outputs": [
        {
          "output_type": "stream",
          "name": "stdout",
          "text": [
            "Drive already mounted at drive; to attempt to forcibly remount, call drive.mount(\"drive\", force_remount=True).\n"
          ]
        }
      ]
    },
    {
      "cell_type": "code",
      "execution_count": 31,
      "metadata": {
        "id": "Peu3zquxHK5H"
      },
      "outputs": [],
      "source": [
        "from bs4 import BeautifulSoup as soup\n",
        "from urllib.request import urlopen as uReq\n",
        "\n",
        "import pandas as pd\n",
        "import json\n",
        "import urllib \n",
        "import re\n",
        "from progressbar import ProgressBar\n",
        "pbar = ProgressBar()"
      ]
    },
    {
      "cell_type": "code",
      "source": [
        "d = []\n",
        "df = pd.read_csv('/content/Npifinalsheet.csv')\n",
        "df = df[20000:40000]\n",
        "urls = df['Urls']\n",
        "\n",
        "\n",
        "for url in pbar(urls):\n",
        "\n",
        "    try:\n",
        "\n",
        "      client = uReq(url)\n",
        "      page_html = client.read()\n",
        "      #print(page_html)\n",
        "      page_soup = soup(page_html)\n",
        "      name=page_soup.find(\"h2\",{\"class\":\"g-font-weight-300\"}).text\n",
        "      state=page_soup.find(\"li\",{\"class\":\"list-inline-item\"}).text\n",
        "      image= page_soup.find('img',{\"class\":\"img-fluid w-100\"})['src']\n",
        "      phone = page_soup.find(\"abbr\",{\"title\":\"Phone\"}).findNext('a').text\n",
        "      npi = page_soup.find(\"title\",{\"itemprop\":\"name\"}).text\n",
        "      taxonomy=page_soup.find(\"a\",{\"class\":\"jumplink\"}).text\n",
        "      pattern = '(?<=\\(NPI)(.+?)(?=\\))'\n",
        "      \n",
        "      result = re.findall(pattern, npi)\n",
        "      d.append(\n",
        "              {\"Name\":name,\n",
        "              \"State\":state,\"Phone Number\": phone,\n",
        "              \"NPI\":result,\n",
        "              \"Taxonomy\":taxonomy,\n",
        "              \"Image_URl\":f\"https:{image}\",\n",
        "               \"urls\":url})\n",
        "    except Exception:\n",
        "\n",
        "\n",
        "      pass\n",
        "\n",
        "the_data = pd.DataFrame(d)\n",
        "\n",
        "the_data.to_csv(\"npifinaltask02.csv\")\n",
        "\n",
        "#!cp npitask00.csv \"drive/My Drive/\"\n",
        "      "
      ],
      "metadata": {
        "id": "TBcPpqBvILcZ",
        "colab": {
          "base_uri": "https://localhost:8080/"
        },
        "outputId": "87c82df1-d430-43d0-8c0a-5d15b712eaba"
      },
      "execution_count": null,
      "outputs": [
        {
          "output_type": "stream",
          "name": "stderr",
          "text": [
            " 11% (2371 of 20000) |##                 | Elapsed Time: 0:09:52 ETA:   1:21:12"
          ]
        }
      ]
    },
    {
      "cell_type": "code",
      "source": [],
      "metadata": {
        "id": "RjMaJyyXvSTl"
      },
      "execution_count": null,
      "outputs": []
    },
    {
      "cell_type": "code",
      "source": [
        "#the_data.to_excel(\"npiTestSample2.xlsx\")"
      ],
      "metadata": {
        "id": "vjnCnBlO-LgY"
      },
      "execution_count": null,
      "outputs": []
    }
  ]
}